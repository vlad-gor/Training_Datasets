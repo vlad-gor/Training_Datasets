{
 "cells": [
  {
   "cell_type": "code",
   "execution_count": 1,
   "metadata": {},
   "outputs": [],
   "source": [
    "import pandas as pd\n",
    "import numpy as np\n",
    "import matplotlib.pyplot as plt\n",
    "import seaborn as sns\n",
    "import plotly.express as px"
   ]
  },
  {
   "cell_type": "code",
   "execution_count": 2,
   "metadata": {},
   "outputs": [
    {
     "name": "stdout",
     "output_type": "stream",
     "text": [
      "(44744, 12)\n"
     ]
    }
   ],
   "source": [
    "data = pd.read_csv('hh_database.csv', sep=';')\n",
    "print(data.shape)"
   ]
  },
  {
   "cell_type": "code",
   "execution_count": 6,
   "metadata": {},
   "outputs": [
    {
     "data": {
      "text/html": [
       "<div>\n",
       "<style scoped>\n",
       "    .dataframe tbody tr th:only-of-type {\n",
       "        vertical-align: middle;\n",
       "    }\n",
       "\n",
       "    .dataframe tbody tr th {\n",
       "        vertical-align: top;\n",
       "    }\n",
       "\n",
       "    .dataframe thead th {\n",
       "        text-align: right;\n",
       "    }\n",
       "</style>\n",
       "<table border=\"1\" class=\"dataframe\">\n",
       "  <thead>\n",
       "    <tr style=\"text-align: right;\">\n",
       "      <th></th>\n",
       "      <th>Пол, возраст</th>\n",
       "      <th>ЗП</th>\n",
       "      <th>Ищет работу на должность:</th>\n",
       "      <th>Город, переезд, командировки</th>\n",
       "      <th>Занятость</th>\n",
       "      <th>График</th>\n",
       "      <th>Опыт работы</th>\n",
       "      <th>Последнее/нынешнее место работы</th>\n",
       "      <th>Последняя/нынешняя должность</th>\n",
       "      <th>Образование и ВУЗ</th>\n",
       "      <th>Обновление резюме</th>\n",
       "      <th>Авто</th>\n",
       "    </tr>\n",
       "  </thead>\n",
       "  <tbody>\n",
       "  </tbody>\n",
       "</table>\n",
       "</div>"
      ],
      "text/plain": [
       "Empty DataFrame\n",
       "Columns: [Пол, возраст, ЗП, Ищет работу на должность:, Город, переезд, командировки, Занятость, График, Опыт работы, Последнее/нынешнее место работы, Последняя/нынешняя должность, Образование и ВУЗ, Обновление резюме, Авто]\n",
       "Index: []"
      ]
     },
     "execution_count": 6,
     "metadata": {},
     "output_type": "execute_result"
    }
   ],
   "source": [
    "data.loc[data['Опыт работы']==0]"
   ]
  },
  {
   "cell_type": "code",
   "execution_count": 4,
   "metadata": {},
   "outputs": [
    {
     "name": "stdout",
     "output_type": "stream",
     "text": [
      "<class 'pandas.core.frame.DataFrame'>\n",
      "RangeIndex: 44744 entries, 0 to 44743\n",
      "Data columns (total 12 columns):\n",
      " #   Column                           Non-Null Count  Dtype \n",
      "---  ------                           --------------  ----- \n",
      " 0   Пол, возраст                     44744 non-null  object\n",
      " 1   ЗП                               44744 non-null  object\n",
      " 2   Ищет работу на должность:        44744 non-null  object\n",
      " 3   Город, переезд, командировки     44744 non-null  object\n",
      " 4   Занятость                        44744 non-null  object\n",
      " 5   График                           44744 non-null  object\n",
      " 6   Опыт работы                      44576 non-null  object\n",
      " 7   Последнее/нынешнее место работы  44743 non-null  object\n",
      " 8   Последняя/нынешняя должность     44742 non-null  object\n",
      " 9   Образование и ВУЗ                44744 non-null  object\n",
      " 10  Обновление резюме                44744 non-null  object\n",
      " 11  Авто                             44744 non-null  object\n",
      "dtypes: object(12)\n",
      "memory usage: 4.1+ MB\n"
     ]
    },
    {
     "data": {
      "text/plain": [
       "None"
      ]
     },
     "metadata": {},
     "output_type": "display_data"
    }
   ],
   "source": [
    "display(data.info())"
   ]
  },
  {
   "cell_type": "code",
   "execution_count": 5,
   "metadata": {},
   "outputs": [
    {
     "name": "stdout",
     "output_type": "stream",
     "text": [
      "559\n"
     ]
    }
   ],
   "source": [
    "# Преобразование данных\n",
    "\n",
    "# ВУЗ\n",
    "def get_education(arg):\n",
    "    arg = ' '.join(arg.split(' ')[:3])\n",
    "    if 'Высшее' in arg:\n",
    "        return 'высшее'\n",
    "    elif 'Неоконченное высшее' in arg:\n",
    "        return 'неоконченное высшее'\n",
    "    elif 'Среднее специальное' in arg:\n",
    "        return 'среднее специальное'\n",
    "    elif 'Среднее образование' in arg:\n",
    "        return 'среднее'\n",
    "data['Образование'] = data['Образование и ВУЗ'].apply(get_education)\n",
    "data = data.drop('Образование и ВУЗ', axis=1)\n",
    "print(data['Образование'].value_counts()['среднее'])"
   ]
  },
  {
   "cell_type": "code",
   "execution_count": 6,
   "metadata": {},
   "outputs": [
    {
     "name": "stdout",
     "output_type": "stream",
     "text": [
      "19.07\n",
      "32.2\n"
     ]
    }
   ],
   "source": [
    "# Школа\n",
    "\n",
    "def get_sex(arg):\n",
    "    if 'Мужчина' in arg:\n",
    "        return 'М'\n",
    "    else:\n",
    "        return 'Ж'\n",
    "    \n",
    "def get_age(arg):\n",
    "    arg_splitted = arg.split(' ')\n",
    "    year_words=['год', 'года', 'лет']\n",
    "    for index, item in enumerate (arg_splitted):\n",
    "        if item in year_words:\n",
    "            return int(arg_splitted[index-1])\n",
    "\n",
    "data['Пол'] = data['Пол, возраст'].apply(get_sex)\n",
    "data['Возраст'] = data['Пол, возраст'].apply(get_age)\n",
    "data = data.drop('Пол, возраст', axis=1)\n",
    "\n",
    "print(round(data['Пол'].value_counts(normalize=True)['Ж'] * 100, 2))\n",
    "print(round(data['Возраст'].mean(), 2))"
   ]
  },
  {
   "cell_type": "code",
   "execution_count": 7,
   "metadata": {},
   "outputs": [
    {
     "name": "stdout",
     "output_type": "stream",
     "text": [
      "100\n"
     ]
    }
   ],
   "source": [
    "# Опыт работы\n",
    "\n",
    "def get_experience(arg):\n",
    "    if arg is np.nan:\n",
    "        return None\n",
    "    year_words=['год', 'года', 'лет']\n",
    "    month_words=['месяц', 'месяца', 'месяцев']\n",
    "    arg_splitted = arg.split(' ')[:7]\n",
    "    years = 0\n",
    "    months = 0\n",
    "    for index, item in enumerate (arg_splitted):\n",
    "        if item in year_words:\n",
    "            years = int(arg_splitted[index-1])\n",
    "        if item in month_words:\n",
    "            months = int(arg_splitted[index-1])\n",
    "    return int(years*12 + months)\n",
    "    \n",
    "data['Опыт работы (месяц)'] = data['Опыт работы'].apply(get_experience)\n",
    "data = data.drop('Опыт работы', axis=1)\n",
    "print(round(data['Опыт работы (месяц)'].median()))"
   ]
  },
  {
   "cell_type": "code",
   "execution_count": 8,
   "metadata": {},
   "outputs": [
    {
     "name": "stdout",
     "output_type": "stream",
     "text": [
      "11\n",
      "32\n"
     ]
    }
   ],
   "source": [
    "def get_city(arg):\n",
    "    million_cities = ['Новосибирск', 'Екатеринбург', 'Нижний Новгород',\n",
    "                      'Казань', 'Челябинск', 'Омск', 'Самара', 'Ростов-на-Дону', \n",
    "                      'Уфа', 'Красноярск', 'Пермь', 'Воронеж', 'Волгоград'\n",
    "                     ]\n",
    "    city = arg.split(' , ')[0]\n",
    "    if (city == 'Москва') or (city == 'Санкт-Петербург'):\n",
    "        return city\n",
    "    elif city in million_cities:\n",
    "        return 'город миллионник'\n",
    "    else:\n",
    "        return 'другие'\n",
    "    \n",
    "def get_ready_to_move(arg):\n",
    "    if ('не готов к переезду' in arg) or ('не готова к переезду' in arg):\n",
    "        return False\n",
    "    else:\n",
    "        return True\n",
    "    \n",
    "def get_ready_for_bisiness_trips(arg):\n",
    "    if ('не готов к командировкам' in arg) or('не готова к командировкам' in arg):\n",
    "        return False\n",
    "    else: \n",
    "        return True\n",
    "    \n",
    "data['Город'] = data['Город, переезд, командировки'].apply(get_city)\n",
    "data['Готовность к переезду'] = data['Город, переезд, командировки'].apply(get_ready_to_move)\n",
    "data['Готовность к командировкам'] = data['Город, переезд, командировки'].apply(get_ready_for_bisiness_trips)\n",
    "data = data.drop('Город, переезд, командировки', axis=1)\n",
    "print(round(data['Город'].value_counts(normalize=True)['Санкт-Петербург'] * 100)) \n",
    "print(round(data[\n",
    "    data['Готовность к переезду'] & data['Готовность к командировкам']\n",
    "].shape[0] / data.shape[0] *100))"
   ]
  },
  {
   "cell_type": "code",
   "execution_count": 9,
   "metadata": {},
   "outputs": [
    {
     "name": "stdout",
     "output_type": "stream",
     "text": [
      "436\n",
      "2311\n"
     ]
    }
   ],
   "source": [
    "# занятость и график\n",
    "employments = ['полная занятость', 'частичная занятость',\n",
    "              'проектная работа', 'волонтерство', 'стажировка']\n",
    "charts = ['полный день', 'сменный график', \n",
    "         'гибкий график', 'удаленная работа',\n",
    "         'вахтовый метод']\n",
    "for employment, chart in zip(employments, charts):\n",
    "    data[employment] = data['Занятость'].apply(lambda x: employment in x)\n",
    "    data[chart] = data['График'].apply(lambda x: chart in x)\n",
    "data = data.drop('Занятость', axis=1)\n",
    "data = data.drop('График', axis=1)\n",
    "print(data[data['проектная работа'] & data['волонтерство']].shape[0])\n",
    "print(data[data['вахтовый метод'] & data['гибкий график']].shape[0])"
   ]
  },
  {
   "cell_type": "code",
   "execution_count": 10,
   "metadata": {},
   "outputs": [
    {
     "name": "stdout",
     "output_type": "stream",
     "text": [
      "59\n"
     ]
    }
   ],
   "source": [
    "# зарплата\n",
    "\n",
    "def get_salary_num(arg):\n",
    "    salary = float(arg.split(' ')[0])\n",
    "    return salary\n",
    "\n",
    "def get_salary_сurrency(arg):\n",
    "    currency_dict = {\n",
    "        'USD': 'USD', 'KZT': 'KZT',\n",
    "        'грн': 'UAH', 'белруб': 'BYN',\n",
    "        'EUR': 'EUR', 'KGS': 'KGS',\n",
    "        'сум': 'UZS', 'AZN': 'AZN'\n",
    "    }\n",
    "    curr = arg.split(' ')[1].replace('.', '')\n",
    "    if curr == 'руб':\n",
    "        return 'RUB'\n",
    "    else:\n",
    "        return currency_dict[curr]\n",
    "    \n",
    "rates = pd.read_csv('ExchangeRates.csv')\n",
    "rates['date'] = pd.to_datetime(rates['date']).dt.date\n",
    "data['Обновление резюме'] = pd.to_datetime(data['Обновление резюме']).dt.date\n",
    "data['ЗП (tmp)'] = data['ЗП'].apply(get_salary_num)\n",
    "data['Курс (tmp)'] = data['ЗП'].apply(get_salary_сurrency)\n",
    "merged = data.merge(\n",
    "    rates, \n",
    "    left_on=['Курс (tmp)', 'Обновление резюме'],\n",
    "    right_on=['currency', 'date',], \n",
    "    how='left'\n",
    ")\n",
    "merged['close'] = merged['close'].fillna(1)\n",
    "merged['proportion'] = merged['proportion'].fillna(1)\n",
    "data['ЗП (руб)'] = merged['close'] * merged['ЗП (tmp)'] / merged['proportion']\n",
    "data = data.drop(['ЗП', 'ЗП (tmp)', 'Курс (tmp)'], axis=1)\n",
    "print(round(data['ЗП (руб)'].median()/1000))"
   ]
  },
  {
   "cell_type": "code",
   "execution_count": 38,
   "metadata": {},
   "outputs": [],
   "source": [
    "data.to_csv('hh_database_preprocessed.csv', index=False)"
   ]
  },
  {
   "cell_type": "code",
   "execution_count": 39,
   "metadata": {},
   "outputs": [
    {
     "data": {
      "text/plain": [
       "(44744, 23)"
      ]
     },
     "execution_count": 39,
     "metadata": {},
     "output_type": "execute_result"
    }
   ],
   "source": [
    "data2 = pd.read_csv('hh_database_preprocessed.csv')\n",
    "data2.shape"
   ]
  },
  {
   "cell_type": "code",
   "execution_count": 40,
   "metadata": {},
   "outputs": [
    {
     "name": "stdout",
     "output_type": "stream",
     "text": [
      "<class 'pandas.core.frame.DataFrame'>\n",
      "RangeIndex: 44744 entries, 0 to 44743\n",
      "Data columns (total 23 columns):\n",
      " #   Column                           Non-Null Count  Dtype  \n",
      "---  ------                           --------------  -----  \n",
      " 0   Ищет работу на должность:        44744 non-null  object \n",
      " 1   Последнее/нынешнее место работы  44743 non-null  object \n",
      " 2   Последняя/нынешняя должность     44742 non-null  object \n",
      " 3   Обновление резюме                44744 non-null  object \n",
      " 4   Авто                             44744 non-null  object \n",
      " 5   Образование                      44744 non-null  object \n",
      " 6   Пол                              44744 non-null  object \n",
      " 7   Возраст                          44744 non-null  int64  \n",
      " 8   Опыт работы (месяц)              44576 non-null  float64\n",
      " 9   Город                            44744 non-null  object \n",
      " 10  Готовность к переезду            44744 non-null  bool   \n",
      " 11  Готовность к командировкам       44744 non-null  bool   \n",
      " 12  полная занятость                 44744 non-null  bool   \n",
      " 13  полный день                      44744 non-null  bool   \n",
      " 14  частичная занятость              44744 non-null  bool   \n",
      " 15  сменный график                   44744 non-null  bool   \n",
      " 16  проектная работа                 44744 non-null  bool   \n",
      " 17  гибкий график                    44744 non-null  bool   \n",
      " 18  волонтерство                     44744 non-null  bool   \n",
      " 19  удаленная работа                 44744 non-null  bool   \n",
      " 20  стажировка                       44744 non-null  bool   \n",
      " 21  вахтовый метод                   44744 non-null  bool   \n",
      " 22  ЗП (руб)                         44744 non-null  float64\n",
      "dtypes: bool(12), float64(2), int64(1), object(8)\n",
      "memory usage: 4.3+ MB\n"
     ]
    }
   ],
   "source": [
    "data2.info()"
   ]
  },
  {
   "cell_type": "code",
   "execution_count": 49,
   "metadata": {},
   "outputs": [
    {
     "name": "stdout",
     "output_type": "stream",
     "text": [
      "158\n"
     ]
    }
   ],
   "source": [
    "data2 = pd.read_csv('tyurin_hh_data_preprocessed.csv')\n",
    "\n",
    "duplicates = data2[data2.duplicated(subset=data2.columns)]\n",
    "data2 = data2.drop_duplicates()\n",
    "print(duplicates.shape[0])"
   ]
  },
  {
   "cell_type": "code",
   "execution_count": 50,
   "metadata": {},
   "outputs": [
    {
     "data": {
      "text/plain": [
       "Последнее/нынешнее место работы      1\n",
       "Последняя/нынешняя должность         2\n",
       "Опыт работы (месяц)                168\n",
       "Готовность к командировкам          70\n",
       "dtype: int64"
      ]
     },
     "metadata": {},
     "output_type": "display_data"
    }
   ],
   "source": [
    "null_data = data2.isnull().sum()\n",
    "display(null_data[null_data > 0])"
   ]
  },
  {
   "cell_type": "code",
   "execution_count": 43,
   "metadata": {},
   "outputs": [],
   "source": [
    "# data = pd.read_csv('hh_database.csv', sep=';')"
   ]
  },
  {
   "cell_type": "code",
   "execution_count": 44,
   "metadata": {},
   "outputs": [
    {
     "data": {
      "text/html": [
       "<div>\n",
       "<style scoped>\n",
       "    .dataframe tbody tr th:only-of-type {\n",
       "        vertical-align: middle;\n",
       "    }\n",
       "\n",
       "    .dataframe tbody tr th {\n",
       "        vertical-align: top;\n",
       "    }\n",
       "\n",
       "    .dataframe thead th {\n",
       "        text-align: right;\n",
       "    }\n",
       "</style>\n",
       "<table border=\"1\" class=\"dataframe\">\n",
       "  <thead>\n",
       "    <tr style=\"text-align: right;\">\n",
       "      <th></th>\n",
       "      <th>Ищет работу на должность:</th>\n",
       "      <th>Последнее/нынешнее место работы</th>\n",
       "      <th>Последняя/нынешняя должность</th>\n",
       "      <th>Обновление резюме</th>\n",
       "      <th>Авто</th>\n",
       "      <th>Образование</th>\n",
       "      <th>Пол</th>\n",
       "      <th>Возраст</th>\n",
       "      <th>Опыт работы (месяц)</th>\n",
       "      <th>Город</th>\n",
       "      <th>...</th>\n",
       "      <th>полный день</th>\n",
       "      <th>частичная занятость</th>\n",
       "      <th>сменный график</th>\n",
       "      <th>проектная работа</th>\n",
       "      <th>гибкий график</th>\n",
       "      <th>волонтерство</th>\n",
       "      <th>удаленная работа</th>\n",
       "      <th>стажировка</th>\n",
       "      <th>вахтовый метод</th>\n",
       "      <th>ЗП (руб)</th>\n",
       "    </tr>\n",
       "  </thead>\n",
       "  <tbody>\n",
       "    <tr>\n",
       "      <th>19199</th>\n",
       "      <td>системный администратор / инженер программист</td>\n",
       "      <td>АО \"Предприятие В-1336\"</td>\n",
       "      <td>Инженер-программист</td>\n",
       "      <td>2019-10-04</td>\n",
       "      <td>Не указано</td>\n",
       "      <td>высшее</td>\n",
       "      <td>М</td>\n",
       "      <td>39</td>\n",
       "      <td>0.0</td>\n",
       "      <td>город миллионник</td>\n",
       "      <td>...</td>\n",
       "      <td>True</td>\n",
       "      <td>False</td>\n",
       "      <td>False</td>\n",
       "      <td>False</td>\n",
       "      <td>False</td>\n",
       "      <td>False</td>\n",
       "      <td>False</td>\n",
       "      <td>False</td>\n",
       "      <td>False</td>\n",
       "      <td>45000.0</td>\n",
       "    </tr>\n",
       "    <tr>\n",
       "      <th>26781</th>\n",
       "      <td>Системный администратор</td>\n",
       "      <td>Европа, Торговая сеть</td>\n",
       "      <td>Системный администратор</td>\n",
       "      <td>2019-10-04</td>\n",
       "      <td>Имеется собственный автомобиль</td>\n",
       "      <td>высшее</td>\n",
       "      <td>М</td>\n",
       "      <td>25</td>\n",
       "      <td>0.0</td>\n",
       "      <td>другие</td>\n",
       "      <td>...</td>\n",
       "      <td>True</td>\n",
       "      <td>False</td>\n",
       "      <td>True</td>\n",
       "      <td>False</td>\n",
       "      <td>True</td>\n",
       "      <td>False</td>\n",
       "      <td>True</td>\n",
       "      <td>False</td>\n",
       "      <td>True</td>\n",
       "      <td>30000.0</td>\n",
       "    </tr>\n",
       "  </tbody>\n",
       "</table>\n",
       "<p>2 rows × 23 columns</p>\n",
       "</div>"
      ],
      "text/plain": [
       "                           Ищет работу на должность:  \\\n",
       "19199  системный администратор / инженер программист   \n",
       "26781                        Системный администратор   \n",
       "\n",
       "      Последнее/нынешнее место работы Последняя/нынешняя должность  \\\n",
       "19199         АО \"Предприятие В-1336\"          Инженер-программист   \n",
       "26781           Европа, Торговая сеть      Системный администратор   \n",
       "\n",
       "      Обновление резюме                            Авто Образование Пол  \\\n",
       "19199        2019-10-04                      Не указано      высшее   М   \n",
       "26781        2019-10-04  Имеется собственный автомобиль      высшее   М   \n",
       "\n",
       "       Возраст  Опыт работы (месяц)             Город  ...  полный день  \\\n",
       "19199       39                  0.0  город миллионник  ...         True   \n",
       "26781       25                  0.0            другие  ...         True   \n",
       "\n",
       "       частичная занятость  сменный график  проектная работа  гибкий график  \\\n",
       "19199                False           False             False          False   \n",
       "26781                False            True             False           True   \n",
       "\n",
       "       волонтерство  удаленная работа  стажировка  вахтовый метод  ЗП (руб)  \n",
       "19199         False             False       False           False   45000.0  \n",
       "26781         False              True       False            True   30000.0  \n",
       "\n",
       "[2 rows x 23 columns]"
      ]
     },
     "execution_count": 44,
     "metadata": {},
     "output_type": "execute_result"
    }
   ],
   "source": [
    "data2[data2['Опыт работы (месяц)'] == 0]"
   ]
  },
  {
   "cell_type": "code",
   "execution_count": 47,
   "metadata": {},
   "outputs": [],
   "source": [
    "data2 = data2[data2['Опыт работы (месяц)'] != 0]"
   ]
  },
  {
   "cell_type": "code",
   "execution_count": 48,
   "metadata": {},
   "outputs": [
    {
     "name": "stdout",
     "output_type": "stream",
     "text": [
      "114.36\n"
     ]
    }
   ],
   "source": [
    "data2 = data2.dropna(subset=['Последнее/нынешнее место работы', 'Последняя/нынешняя должность'])\n",
    "data2['Опыт работы (месяц)'] = data2['Опыт работы (месяц)'].fillna(data2['Опыт работы (месяц)'].median())\n",
    "print(round(data2['Опыт работы (месяц)'].mean(), 2))"
   ]
  },
  {
   "cell_type": "code",
   "execution_count": 53,
   "metadata": {},
   "outputs": [],
   "source": [
    "import pandas as pd \n",
    "\n",
    "df1 = pd.read_csv('hh_database_preprocessed.csv')\n",
    "\n",
    "df2 = pd.read_csv('tyurin_hh_data_preprocessed.csv')\n",
    "\n",
    "# df1.compare(df2)"
   ]
  },
  {
   "cell_type": "code",
   "execution_count": 56,
   "metadata": {},
   "outputs": [],
   "source": [
    "df3 = df1.compare(df2, align_axis=0)"
   ]
  },
  {
   "cell_type": "code",
   "execution_count": 58,
   "metadata": {},
   "outputs": [
    {
     "data": {
      "text/html": [
       "<div>\n",
       "<style scoped>\n",
       "    .dataframe tbody tr th:only-of-type {\n",
       "        vertical-align: middle;\n",
       "    }\n",
       "\n",
       "    .dataframe tbody tr th {\n",
       "        vertical-align: top;\n",
       "    }\n",
       "\n",
       "    .dataframe thead th {\n",
       "        text-align: right;\n",
       "    }\n",
       "</style>\n",
       "<table border=\"1\" class=\"dataframe\">\n",
       "  <thead>\n",
       "    <tr style=\"text-align: right;\">\n",
       "      <th></th>\n",
       "      <th></th>\n",
       "      <th>Обновление резюме</th>\n",
       "      <th>Возраст</th>\n",
       "      <th>Город</th>\n",
       "      <th>Готовность к командировкам</th>\n",
       "      <th>ЗП (руб)</th>\n",
       "    </tr>\n",
       "  </thead>\n",
       "  <tbody>\n",
       "    <tr>\n",
       "      <th rowspan=\"2\" valign=\"top\">0</th>\n",
       "      <th>self</th>\n",
       "      <td>2019-04-16</td>\n",
       "      <td>NaN</td>\n",
       "      <td>NaN</td>\n",
       "      <td>NaN</td>\n",
       "      <td>NaN</td>\n",
       "    </tr>\n",
       "    <tr>\n",
       "      <th>other</th>\n",
       "      <td>16.04.2019 15:59</td>\n",
       "      <td>NaN</td>\n",
       "      <td>NaN</td>\n",
       "      <td>NaN</td>\n",
       "      <td>NaN</td>\n",
       "    </tr>\n",
       "    <tr>\n",
       "      <th rowspan=\"2\" valign=\"top\">1</th>\n",
       "      <th>self</th>\n",
       "      <td>2019-12-04</td>\n",
       "      <td>NaN</td>\n",
       "      <td>NaN</td>\n",
       "      <td>NaN</td>\n",
       "      <td>NaN</td>\n",
       "    </tr>\n",
       "    <tr>\n",
       "      <th>other</th>\n",
       "      <td>12.04.2019 08:42</td>\n",
       "      <td>NaN</td>\n",
       "      <td>NaN</td>\n",
       "      <td>NaN</td>\n",
       "      <td>NaN</td>\n",
       "    </tr>\n",
       "    <tr>\n",
       "      <th>2</th>\n",
       "      <th>self</th>\n",
       "      <td>2019-04-16</td>\n",
       "      <td>NaN</td>\n",
       "      <td>NaN</td>\n",
       "      <td>NaN</td>\n",
       "      <td>NaN</td>\n",
       "    </tr>\n",
       "  </tbody>\n",
       "</table>\n",
       "</div>"
      ],
      "text/plain": [
       "        Обновление резюме  Возраст Город Готовность к командировкам  ЗП (руб)\n",
       "0 self         2019-04-16      NaN   NaN                        NaN       NaN\n",
       "  other  16.04.2019 15:59      NaN   NaN                        NaN       NaN\n",
       "1 self         2019-12-04      NaN   NaN                        NaN       NaN\n",
       "  other  12.04.2019 08:42      NaN   NaN                        NaN       NaN\n",
       "2 self         2019-04-16      NaN   NaN                        NaN       NaN"
      ]
     },
     "execution_count": 58,
     "metadata": {},
     "output_type": "execute_result"
    }
   ],
   "source": [
    "df3.head()"
   ]
  },
  {
   "cell_type": "code",
   "execution_count": 57,
   "metadata": {},
   "outputs": [
    {
     "name": "stdout",
     "output_type": "stream",
     "text": [
      "<class 'pandas.core.frame.DataFrame'>\n",
      "MultiIndex: 89488 entries, (0, 'self') to (44743, 'other')\n",
      "Data columns (total 5 columns):\n",
      " #   Column                      Non-Null Count  Dtype  \n",
      "---  ------                      --------------  -----  \n",
      " 0   Обновление резюме           89488 non-null  object \n",
      " 1   Возраст                     2 non-null      float64\n",
      " 2   Город                       14664 non-null  object \n",
      " 3   Готовность к командировкам  72 non-null     object \n",
      " 4   ЗП (руб)                    488 non-null    float64\n",
      "dtypes: float64(2), object(3)\n",
      "memory usage: 4.2+ MB\n"
     ]
    }
   ],
   "source": [
    "df3.info()"
   ]
  },
  {
   "cell_type": "code",
   "execution_count": null,
   "metadata": {},
   "outputs": [],
   "source": []
  }
 ],
 "metadata": {
  "interpreter": {
   "hash": "a33517d9d7dd072cede418c1d1656427de6858e0f2f8270c12eb9a099f89b41c"
  },
  "kernelspec": {
   "display_name": "Python 3.9.7 64-bit",
   "name": "python3"
  },
  "language_info": {
   "codemirror_mode": {
    "name": "ipython",
    "version": 3
   },
   "file_extension": ".py",
   "mimetype": "text/x-python",
   "name": "python",
   "nbconvert_exporter": "python",
   "pygments_lexer": "ipython3",
   "version": "3.9.7"
  },
  "orig_nbformat": 4
 },
 "nbformat": 4,
 "nbformat_minor": 2
}
